{
  "nbformat": 4,
  "nbformat_minor": 0,
  "metadata": {
    "colab": {
      "provenance": [],
      "authorship_tag": "ABX9TyNiX6rRqLC2wnjUFtk0ZXRB",
      "include_colab_link": true
    },
    "kernelspec": {
      "name": "python3",
      "display_name": "Python 3"
    },
    "language_info": {
      "name": "python"
    }
  },
  "cells": [
    {
      "cell_type": "markdown",
      "metadata": {
        "id": "view-in-github",
        "colab_type": "text"
      },
      "source": [
        "<a href=\"https://colab.research.google.com/github/JOSE-ALEX-CLOUD/LP-PROFMASSAKI/blob/main/Untitled6.ipynb\" target=\"_parent\"><img src=\"https://colab.research.google.com/assets/colab-badge.svg\" alt=\"Open In Colab\"/></a>"
      ]
    },
    {
      "cell_type": "code",
      "execution_count": 12,
      "metadata": {
        "colab": {
          "base_uri": "https://localhost:8080/"
        },
        "id": "fItxIBmRG_5r",
        "outputId": "8f09ca03-cb43-4c76-ea2d-a82b84f35169"
      },
      "outputs": [
        {
          "output_type": "stream",
          "name": "stdout",
          "text": [
            "Digite valor polegada:2\n",
            "valor pol em mm= 50.8\n"
          ]
        }
      ],
      "source": [
        "p= float(input(\"Digite valor polegada:\"))\n",
        "mm= p*25.4\n",
        "print(\"valor pol em mm=\",mm)"
      ]
    }
  ]
}